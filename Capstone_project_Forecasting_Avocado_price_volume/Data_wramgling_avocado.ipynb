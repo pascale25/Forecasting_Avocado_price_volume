{
 "cells": [
  {
   "cell_type": "code",
   "execution_count": 1,
   "id": "d99861d8",
   "metadata": {},
   "outputs": [],
   "source": [
    "# project idea note\n",
    "# https://docs.google.com/document/d/1_Tp3DhT_5sD2-RbuMpkKVjSKfcNsOQAvUdDc6ZCoJtc/edit?usp=sharing\n",
    "\n",
    "# new data set link ----  \n",
    "#https://www.kaggle.com/valentinjoseph/avocado-sales-20152021-us-centric (no code)"
   ]
  },
  {
   "cell_type": "code",
   "execution_count": 2,
   "id": "c66f52e8",
   "metadata": {},
   "outputs": [],
   "source": [
    "import pandas as pd\n",
    "import matplotlib.pyplot as plt\n",
    "import seaborn as sns\n",
    "import datetime\n",
    "import numpy as np\n",
    "%matplotlib inline\n",
    "import os\n",
    "\n",
    "from library.sb_utils import save_file"
   ]
  },
  {
   "cell_type": "code",
   "execution_count": 3,
   "id": "c34df1be",
   "metadata": {},
   "outputs": [],
   "source": [
    "data = pd.read_csv('avocado cleaned.csv')"
   ]
  },
  {
   "cell_type": "markdown",
   "id": "73e27257",
   "metadata": {},
   "source": [
    "#### Inspction of the dataframe"
   ]
  },
  {
   "cell_type": "code",
   "execution_count": 4,
   "id": "18f5c31b",
   "metadata": {},
   "outputs": [
    {
     "data": {
      "text/html": [
       "<div>\n",
       "<style scoped>\n",
       "    .dataframe tbody tr th:only-of-type {\n",
       "        vertical-align: middle;\n",
       "    }\n",
       "\n",
       "    .dataframe tbody tr th {\n",
       "        vertical-align: top;\n",
       "    }\n",
       "\n",
       "    .dataframe thead th {\n",
       "        text-align: right;\n",
       "    }\n",
       "</style>\n",
       "<table border=\"1\" class=\"dataframe\">\n",
       "  <thead>\n",
       "    <tr style=\"text-align: right;\">\n",
       "      <th></th>\n",
       "      <th>Date</th>\n",
       "      <th>AveragePrice</th>\n",
       "      <th>TotalVolume</th>\n",
       "      <th>plu4046</th>\n",
       "      <th>plu4225</th>\n",
       "      <th>plu4770</th>\n",
       "      <th>TotalBags</th>\n",
       "      <th>SmallBags</th>\n",
       "      <th>LargeBags</th>\n",
       "      <th>XLargeBags</th>\n",
       "      <th>type</th>\n",
       "      <th>year</th>\n",
       "      <th>region</th>\n",
       "    </tr>\n",
       "  </thead>\n",
       "  <tbody>\n",
       "    <tr>\n",
       "      <th>0</th>\n",
       "      <td>1/4/2015</td>\n",
       "      <td>1.22</td>\n",
       "      <td>40873.28</td>\n",
       "      <td>2819.50</td>\n",
       "      <td>28287.42</td>\n",
       "      <td>49.9</td>\n",
       "      <td>9716.46</td>\n",
       "      <td>9186.93</td>\n",
       "      <td>529.53</td>\n",
       "      <td>0.0</td>\n",
       "      <td>conventional</td>\n",
       "      <td>2015</td>\n",
       "      <td>Albany</td>\n",
       "    </tr>\n",
       "    <tr>\n",
       "      <th>1</th>\n",
       "      <td>1/4/2015</td>\n",
       "      <td>1.79</td>\n",
       "      <td>1373.95</td>\n",
       "      <td>57.42</td>\n",
       "      <td>153.88</td>\n",
       "      <td>0.0</td>\n",
       "      <td>1162.65</td>\n",
       "      <td>1162.65</td>\n",
       "      <td>0.00</td>\n",
       "      <td>0.0</td>\n",
       "      <td>organic</td>\n",
       "      <td>2015</td>\n",
       "      <td>Albany</td>\n",
       "    </tr>\n",
       "  </tbody>\n",
       "</table>\n",
       "</div>"
      ],
      "text/plain": [
       "       Date  AveragePrice  TotalVolume  plu4046   plu4225  plu4770  TotalBags  \\\n",
       "0  1/4/2015          1.22     40873.28  2819.50  28287.42     49.9    9716.46   \n",
       "1  1/4/2015          1.79      1373.95    57.42    153.88      0.0    1162.65   \n",
       "\n",
       "   SmallBags  LargeBags  XLargeBags          type  year  region  \n",
       "0    9186.93     529.53         0.0  conventional  2015  Albany  \n",
       "1    1162.65       0.00         0.0       organic  2015  Albany  "
      ]
     },
     "execution_count": 4,
     "metadata": {},
     "output_type": "execute_result"
    }
   ],
   "source": [
    "data.head(2)"
   ]
  },
  {
   "cell_type": "code",
   "execution_count": 5,
   "id": "126238d7",
   "metadata": {},
   "outputs": [
    {
     "data": {
      "text/plain": [
       "(41025, 13)"
      ]
     },
     "execution_count": 5,
     "metadata": {},
     "output_type": "execute_result"
    }
   ],
   "source": [
    "data.shape"
   ]
  },
  {
   "cell_type": "code",
   "execution_count": 6,
   "id": "f590fb0d",
   "metadata": {},
   "outputs": [
    {
     "name": "stdout",
     "output_type": "stream",
     "text": [
      "<class 'pandas.core.frame.DataFrame'>\n",
      "RangeIndex: 41025 entries, 0 to 41024\n",
      "Data columns (total 13 columns):\n",
      " #   Column        Non-Null Count  Dtype  \n",
      "---  ------        --------------  -----  \n",
      " 0   Date          41025 non-null  object \n",
      " 1   AveragePrice  41025 non-null  float64\n",
      " 2   TotalVolume   41025 non-null  float64\n",
      " 3   plu4046       41025 non-null  float64\n",
      " 4   plu4225       41025 non-null  float64\n",
      " 5   plu4770       41025 non-null  float64\n",
      " 6   TotalBags     41025 non-null  float64\n",
      " 7   SmallBags     41025 non-null  float64\n",
      " 8   LargeBags     41025 non-null  float64\n",
      " 9   XLargeBags    41025 non-null  float64\n",
      " 10  type          41025 non-null  object \n",
      " 11  year          41025 non-null  int64  \n",
      " 12  region        41025 non-null  object \n",
      "dtypes: float64(9), int64(1), object(3)\n",
      "memory usage: 4.1+ MB\n"
     ]
    }
   ],
   "source": [
    "data.info()"
   ]
  },
  {
   "cell_type": "code",
   "execution_count": 7,
   "id": "f15da9ac",
   "metadata": {},
   "outputs": [
    {
     "data": {
      "text/plain": [
       "Date            0\n",
       "AveragePrice    0\n",
       "TotalVolume     0\n",
       "plu4046         0\n",
       "plu4225         0\n",
       "plu4770         0\n",
       "TotalBags       0\n",
       "SmallBags       0\n",
       "LargeBags       0\n",
       "XLargeBags      0\n",
       "type            0\n",
       "year            0\n",
       "region          0\n",
       "dtype: int64"
      ]
     },
     "execution_count": 7,
     "metadata": {},
     "output_type": "execute_result"
    }
   ],
   "source": [
    "# check for missing value\n",
    "data.isnull().sum()"
   ]
  },
  {
   "cell_type": "code",
   "execution_count": 8,
   "id": "fa84d352",
   "metadata": {},
   "outputs": [
    {
     "data": {
      "text/plain": [
       "0"
      ]
     },
     "execution_count": 8,
     "metadata": {},
     "output_type": "execute_result"
    }
   ],
   "source": [
    "# check for duplicate\n",
    "data.duplicated().sum()"
   ]
  },
  {
   "cell_type": "code",
   "execution_count": 9,
   "id": "70803382",
   "metadata": {},
   "outputs": [
    {
     "data": {
      "text/plain": [
       "Date              361\n",
       "AveragePrice    24331\n",
       "TotalVolume     40959\n",
       "plu4046         38786\n",
       "plu4225         39738\n",
       "plu4770         24862\n",
       "TotalBags       40751\n",
       "SmallBags       21682\n",
       "LargeBags       17450\n",
       "XLargeBags       7356\n",
       "type                4\n",
       "year                7\n",
       "region             61\n",
       "dtype: int64"
      ]
     },
     "execution_count": 9,
     "metadata": {},
     "output_type": "execute_result"
    }
   ],
   "source": [
    "data.nunique()"
   ]
  },
  {
   "cell_type": "markdown",
   "id": "fd6c52bf",
   "metadata": {},
   "source": [
    "#the typpe of avocado is 2, but we have 4 "
   ]
  },
  {
   "cell_type": "code",
   "execution_count": 10,
   "id": "12a57dcc",
   "metadata": {},
   "outputs": [
    {
     "data": {
      "text/plain": [
       "array(['conventional', 'organic', 'Conventional', 'Organic'], dtype=object)"
      ]
     },
     "execution_count": 10,
     "metadata": {},
     "output_type": "execute_result"
    }
   ],
   "source": [
    "data.type.unique()"
   ]
  },
  {
   "cell_type": "code",
   "execution_count": 11,
   "id": "b7c250a1",
   "metadata": {},
   "outputs": [],
   "source": [
    "# rename \n",
    "data['type'] = data['type'].replace(['Conventional'],'conventional')\n",
    "data['type'] = data['type'].replace(['Organic'],'organic')       "
   ]
  },
  {
   "cell_type": "code",
   "execution_count": 12,
   "id": "cf61f25e",
   "metadata": {},
   "outputs": [
    {
     "data": {
      "text/plain": [
       "array([2015, 2016, 2017, 2018, 2019, 2020, 2021], dtype=int64)"
      ]
     },
     "execution_count": 12,
     "metadata": {},
     "output_type": "execute_result"
    }
   ],
   "source": [
    "# check year \n",
    "data.year.unique()"
   ]
  },
  {
   "cell_type": "code",
   "execution_count": 13,
   "id": "14cca3d0",
   "metadata": {
    "scrolled": true
   },
   "outputs": [
    {
     "data": {
      "text/plain": [
       "array(['Albany', 'Atlanta', 'BaltimoreWashington', 'BirminghamMontgomery',\n",
       "       'Boise', 'Boston', 'BuffaloRochester', 'California', 'Charlotte',\n",
       "       'Chicago', 'CincinnatiDayton', 'Columbus', 'DallasFtWorth',\n",
       "       'Denver', 'Detroit', 'GrandRapids', 'GreatLakes',\n",
       "       'HarrisburgScranton', 'HartfordSpringfield', 'Houston',\n",
       "       'Indianapolis', 'Jacksonville', 'LasVegas', 'LosAngeles',\n",
       "       'Louisville', 'Miami', 'Midsouth', 'Nashville', 'New York',\n",
       "       'NewOrleans', 'NewYork', 'Northeast', 'Northern New England',\n",
       "       'NorthernNewEngland', 'Orlando', 'PeoriaSpringfield',\n",
       "       'Philadelphia', 'PhoenixTucson', 'Pittsburgh', 'Plains',\n",
       "       'Portland', 'Providence', 'RaleighGreensboro', 'RichmondNorfolk',\n",
       "       'Roanoke', 'Sacramento', 'SanDiego', 'SanFrancisco', 'Seattle',\n",
       "       'SouthCarolina', 'SouthCentral', 'Southeast', 'Spokane', 'StLouis',\n",
       "       'Syracuse', 'Tampa', 'Toledo', 'TotalUS', 'West',\n",
       "       'WestTexNewMexico', 'Wichita'], dtype=object)"
      ]
     },
     "execution_count": 13,
     "metadata": {},
     "output_type": "execute_result"
    }
   ],
   "source": [
    "data.region.unique()"
   ]
  },
  {
   "cell_type": "code",
   "execution_count": 14,
   "id": "384f77d1",
   "metadata": {},
   "outputs": [],
   "source": [
    "# rename  New York\n",
    "data['region'] = data['region'].replace(['New York'],'NewYork')  "
   ]
  },
  {
   "cell_type": "markdown",
   "id": "973541a0",
   "metadata": {},
   "source": [
    "#northeast region states\n",
    "#Maine, New Hampshire, Vermont, Massachusetts, Rhode Island, Connecticut, New York, New Jersey, and Pennsylvania"
   ]
  },
  {
   "cell_type": "code",
   "execution_count": 15,
   "id": "759c024a",
   "metadata": {},
   "outputs": [],
   "source": [
    "# set the date as datetime and set as index\n",
    "data['Date']=pd.to_datetime(data['Date'])\n",
    "data.set_index(\"Date\", inplace=True)"
   ]
  },
  {
   "cell_type": "code",
   "execution_count": 16,
   "id": "71d8ed15",
   "metadata": {},
   "outputs": [],
   "source": [
    "# select features of interest\n",
    "df= data[['AveragePrice', 'TotalVolume', 'type', 'year','region']]"
   ]
  },
  {
   "cell_type": "code",
   "execution_count": 17,
   "id": "d2604445",
   "metadata": {},
   "outputs": [],
   "source": [
    "#subset dataset to get TotalUS and Northeast region and New York\n",
    "# Total_US_avocado_dataset\n",
    "df_us = df[df['region']=='TotalUS']\n",
    "df_us_org=df_us[df_us['type']=='organic']\n",
    "df_us_con=df_us[df_us['type']=='conventional']\n",
    "# northeast region states(#Maine, New Hampshire, Vermont, \n",
    "# Massachusetts, Rhode Island, Connecticut, New York, New Jersey, and Pennsylvania)\n",
    "df_ne = df[df['region']=='Northeast']\n",
    "df_ne_org=df_ne[df_ne['type']=='organic']\n",
    "df_ne_con=df_ne[df_ne['type']=='conventional']\n",
    "# New_york_avocado_dataset\n",
    "df_ny = df[df['region']=='NewYork']\n",
    "#df_ny_org=df_ny[df_ny['type']=='organic']\n",
    "#df_ny_con=df_ny[df_ny['type']=='conventional']"
   ]
  },
  {
   "cell_type": "code",
   "execution_count": 18,
   "id": "7cbb9374",
   "metadata": {},
   "outputs": [],
   "source": [
    "# filter out subtotals (total us, west, midsouth, northeast, south central and southeast)\n",
    "df = df.loc[df['region'] != 'TotalUS']\n",
    "df = df.loc[df['region'] != 'Northeast']\n",
    "df = df.loc[df['region'] != 'Midsouth']\n",
    "df = df.loc[df['region'] != 'SouthCentral']\n",
    "df = df.loc[df['region'] != 'Southeast']\n",
    "df = df.loc[df['region'] != 'Northern New England']\n",
    "df = df.loc[df['region'] != 'NorthernNewEngland']\n",
    "df = df.loc[df['region'] != 'WestTexNewMexico']\n",
    "df = df.loc[df['region'] != 'West']"
   ]
  },
  {
   "cell_type": "code",
   "execution_count": 19,
   "id": "4dea2ac1",
   "metadata": {},
   "outputs": [
    {
     "data": {
      "text/html": [
       "<div>\n",
       "<style scoped>\n",
       "    .dataframe tbody tr th:only-of-type {\n",
       "        vertical-align: middle;\n",
       "    }\n",
       "\n",
       "    .dataframe tbody tr th {\n",
       "        vertical-align: top;\n",
       "    }\n",
       "\n",
       "    .dataframe thead th {\n",
       "        text-align: right;\n",
       "    }\n",
       "</style>\n",
       "<table border=\"1\" class=\"dataframe\">\n",
       "  <thead>\n",
       "    <tr style=\"text-align: right;\">\n",
       "      <th></th>\n",
       "      <th>AveragePrice</th>\n",
       "      <th>TotalVolume</th>\n",
       "      <th>type</th>\n",
       "      <th>year</th>\n",
       "      <th>region</th>\n",
       "    </tr>\n",
       "    <tr>\n",
       "      <th>Date</th>\n",
       "      <th></th>\n",
       "      <th></th>\n",
       "      <th></th>\n",
       "      <th></th>\n",
       "      <th></th>\n",
       "    </tr>\n",
       "  </thead>\n",
       "  <tbody>\n",
       "    <tr>\n",
       "      <th>2015-01-04</th>\n",
       "      <td>1.22</td>\n",
       "      <td>40873.28</td>\n",
       "      <td>conventional</td>\n",
       "      <td>2015</td>\n",
       "      <td>Albany</td>\n",
       "    </tr>\n",
       "    <tr>\n",
       "      <th>2015-01-04</th>\n",
       "      <td>1.79</td>\n",
       "      <td>1373.95</td>\n",
       "      <td>organic</td>\n",
       "      <td>2015</td>\n",
       "      <td>Albany</td>\n",
       "    </tr>\n",
       "    <tr>\n",
       "      <th>2015-01-11</th>\n",
       "      <td>1.24</td>\n",
       "      <td>41195.08</td>\n",
       "      <td>conventional</td>\n",
       "      <td>2015</td>\n",
       "      <td>Albany</td>\n",
       "    </tr>\n",
       "    <tr>\n",
       "      <th>2015-01-11</th>\n",
       "      <td>1.77</td>\n",
       "      <td>1182.56</td>\n",
       "      <td>organic</td>\n",
       "      <td>2015</td>\n",
       "      <td>Albany</td>\n",
       "    </tr>\n",
       "    <tr>\n",
       "      <th>2015-01-18</th>\n",
       "      <td>1.17</td>\n",
       "      <td>44511.28</td>\n",
       "      <td>conventional</td>\n",
       "      <td>2015</td>\n",
       "      <td>Albany</td>\n",
       "    </tr>\n",
       "  </tbody>\n",
       "</table>\n",
       "</div>"
      ],
      "text/plain": [
       "            AveragePrice  TotalVolume          type  year  region\n",
       "Date                                                             \n",
       "2015-01-04          1.22     40873.28  conventional  2015  Albany\n",
       "2015-01-04          1.79      1373.95       organic  2015  Albany\n",
       "2015-01-11          1.24     41195.08  conventional  2015  Albany\n",
       "2015-01-11          1.77      1182.56       organic  2015  Albany\n",
       "2015-01-18          1.17     44511.28  conventional  2015  Albany"
      ]
     },
     "execution_count": 19,
     "metadata": {},
     "output_type": "execute_result"
    }
   ],
   "source": [
    "df.head()"
   ]
  },
  {
   "cell_type": "code",
   "execution_count": 20,
   "id": "92a64485",
   "metadata": {
    "scrolled": true
   },
   "outputs": [
    {
     "data": {
      "text/html": [
       "<div>\n",
       "<style scoped>\n",
       "    .dataframe tbody tr th:only-of-type {\n",
       "        vertical-align: middle;\n",
       "    }\n",
       "\n",
       "    .dataframe tbody tr th {\n",
       "        vertical-align: top;\n",
       "    }\n",
       "\n",
       "    .dataframe thead th {\n",
       "        text-align: right;\n",
       "    }\n",
       "</style>\n",
       "<table border=\"1\" class=\"dataframe\">\n",
       "  <thead>\n",
       "    <tr style=\"text-align: right;\">\n",
       "      <th></th>\n",
       "      <th>AveragePrice</th>\n",
       "      <th>TotalVolume</th>\n",
       "      <th>type</th>\n",
       "      <th>year</th>\n",
       "      <th>region</th>\n",
       "    </tr>\n",
       "    <tr>\n",
       "      <th>Date</th>\n",
       "      <th></th>\n",
       "      <th></th>\n",
       "      <th></th>\n",
       "      <th></th>\n",
       "      <th></th>\n",
       "    </tr>\n",
       "  </thead>\n",
       "  <tbody>\n",
       "    <tr>\n",
       "      <th>2015-01-04</th>\n",
       "      <td>0.95</td>\n",
       "      <td>31324277.73</td>\n",
       "      <td>conventional</td>\n",
       "      <td>2015</td>\n",
       "      <td>TotalUS</td>\n",
       "    </tr>\n",
       "    <tr>\n",
       "      <th>2015-01-04</th>\n",
       "      <td>1.46</td>\n",
       "      <td>612910.15</td>\n",
       "      <td>organic</td>\n",
       "      <td>2015</td>\n",
       "      <td>TotalUS</td>\n",
       "    </tr>\n",
       "  </tbody>\n",
       "</table>\n",
       "</div>"
      ],
      "text/plain": [
       "            AveragePrice  TotalVolume          type  year   region\n",
       "Date                                                              \n",
       "2015-01-04          0.95  31324277.73  conventional  2015  TotalUS\n",
       "2015-01-04          1.46    612910.15       organic  2015  TotalUS"
      ]
     },
     "execution_count": 20,
     "metadata": {},
     "output_type": "execute_result"
    }
   ],
   "source": [
    "df_us.head(2)"
   ]
  },
  {
   "cell_type": "code",
   "execution_count": 21,
   "id": "d6a9c6ba",
   "metadata": {},
   "outputs": [
    {
     "data": {
      "text/html": [
       "<div>\n",
       "<style scoped>\n",
       "    .dataframe tbody tr th:only-of-type {\n",
       "        vertical-align: middle;\n",
       "    }\n",
       "\n",
       "    .dataframe tbody tr th {\n",
       "        vertical-align: top;\n",
       "    }\n",
       "\n",
       "    .dataframe thead th {\n",
       "        text-align: right;\n",
       "    }\n",
       "</style>\n",
       "<table border=\"1\" class=\"dataframe\">\n",
       "  <thead>\n",
       "    <tr style=\"text-align: right;\">\n",
       "      <th></th>\n",
       "      <th>AveragePrice</th>\n",
       "      <th>TotalVolume</th>\n",
       "      <th>type</th>\n",
       "      <th>year</th>\n",
       "      <th>region</th>\n",
       "    </tr>\n",
       "    <tr>\n",
       "      <th>Date</th>\n",
       "      <th></th>\n",
       "      <th></th>\n",
       "      <th></th>\n",
       "      <th></th>\n",
       "      <th></th>\n",
       "    </tr>\n",
       "  </thead>\n",
       "  <tbody>\n",
       "    <tr>\n",
       "      <th>2015-01-04</th>\n",
       "      <td>1.09</td>\n",
       "      <td>3759282.62</td>\n",
       "      <td>conventional</td>\n",
       "      <td>2015</td>\n",
       "      <td>Northeast</td>\n",
       "    </tr>\n",
       "    <tr>\n",
       "      <th>2015-01-04</th>\n",
       "      <td>1.88</td>\n",
       "      <td>48280.46</td>\n",
       "      <td>organic</td>\n",
       "      <td>2015</td>\n",
       "      <td>Northeast</td>\n",
       "    </tr>\n",
       "  </tbody>\n",
       "</table>\n",
       "</div>"
      ],
      "text/plain": [
       "            AveragePrice  TotalVolume          type  year     region\n",
       "Date                                                                \n",
       "2015-01-04          1.09   3759282.62  conventional  2015  Northeast\n",
       "2015-01-04          1.88     48280.46       organic  2015  Northeast"
      ]
     },
     "execution_count": 21,
     "metadata": {},
     "output_type": "execute_result"
    }
   ],
   "source": [
    "df_ne.head(2)"
   ]
  },
  {
   "cell_type": "code",
   "execution_count": 22,
   "id": "36e2be00",
   "metadata": {},
   "outputs": [
    {
     "data": {
      "text/html": [
       "<div>\n",
       "<style scoped>\n",
       "    .dataframe tbody tr th:only-of-type {\n",
       "        vertical-align: middle;\n",
       "    }\n",
       "\n",
       "    .dataframe tbody tr th {\n",
       "        vertical-align: top;\n",
       "    }\n",
       "\n",
       "    .dataframe thead th {\n",
       "        text-align: right;\n",
       "    }\n",
       "</style>\n",
       "<table border=\"1\" class=\"dataframe\">\n",
       "  <thead>\n",
       "    <tr style=\"text-align: right;\">\n",
       "      <th></th>\n",
       "      <th>AveragePrice</th>\n",
       "      <th>TotalVolume</th>\n",
       "      <th>type</th>\n",
       "      <th>year</th>\n",
       "      <th>region</th>\n",
       "    </tr>\n",
       "    <tr>\n",
       "      <th>Date</th>\n",
       "      <th></th>\n",
       "      <th></th>\n",
       "      <th></th>\n",
       "      <th></th>\n",
       "      <th></th>\n",
       "    </tr>\n",
       "  </thead>\n",
       "  <tbody>\n",
       "    <tr>\n",
       "      <th>2018-01-08</th>\n",
       "      <td>1.714335</td>\n",
       "      <td>1106124.45</td>\n",
       "      <td>conventional</td>\n",
       "      <td>2018</td>\n",
       "      <td>NewYork</td>\n",
       "    </tr>\n",
       "    <tr>\n",
       "      <th>2018-01-08</th>\n",
       "      <td>2.225827</td>\n",
       "      <td>57337.41</td>\n",
       "      <td>organic</td>\n",
       "      <td>2018</td>\n",
       "      <td>NewYork</td>\n",
       "    </tr>\n",
       "  </tbody>\n",
       "</table>\n",
       "</div>"
      ],
      "text/plain": [
       "            AveragePrice  TotalVolume          type  year   region\n",
       "Date                                                              \n",
       "2018-01-08      1.714335   1106124.45  conventional  2018  NewYork\n",
       "2018-01-08      2.225827     57337.41       organic  2018  NewYork"
      ]
     },
     "execution_count": 22,
     "metadata": {},
     "output_type": "execute_result"
    }
   ],
   "source": [
    "df_ny.head(2)"
   ]
  },
  {
   "cell_type": "code",
   "execution_count": 23,
   "id": "1f928aeb",
   "metadata": {},
   "outputs": [
    {
     "data": {
      "text/plain": [
       "array([2018, 2019, 2020, 2021, 2015, 2016, 2017], dtype=int64)"
      ]
     },
     "execution_count": 23,
     "metadata": {},
     "output_type": "execute_result"
    }
   ],
   "source": [
    "df_ny.year.unique()"
   ]
  },
  {
   "cell_type": "code",
   "execution_count": 24,
   "id": "4bc7c1c7",
   "metadata": {},
   "outputs": [
    {
     "data": {
      "text/html": [
       "<div>\n",
       "<style scoped>\n",
       "    .dataframe tbody tr th:only-of-type {\n",
       "        vertical-align: middle;\n",
       "    }\n",
       "\n",
       "    .dataframe tbody tr th {\n",
       "        vertical-align: top;\n",
       "    }\n",
       "\n",
       "    .dataframe thead th {\n",
       "        text-align: right;\n",
       "    }\n",
       "</style>\n",
       "<table border=\"1\" class=\"dataframe\">\n",
       "  <thead>\n",
       "    <tr style=\"text-align: right;\">\n",
       "      <th></th>\n",
       "      <th>AveragePrice</th>\n",
       "      <th>TotalVolume</th>\n",
       "      <th>type</th>\n",
       "      <th>year</th>\n",
       "      <th>region</th>\n",
       "    </tr>\n",
       "    <tr>\n",
       "      <th>Date</th>\n",
       "      <th></th>\n",
       "      <th></th>\n",
       "      <th></th>\n",
       "      <th></th>\n",
       "      <th></th>\n",
       "    </tr>\n",
       "  </thead>\n",
       "  <tbody>\n",
       "    <tr>\n",
       "      <th>2015-01-04</th>\n",
       "      <td>1.93</td>\n",
       "      <td>17328.24</td>\n",
       "      <td>organic</td>\n",
       "      <td>2015</td>\n",
       "      <td>NewYork</td>\n",
       "    </tr>\n",
       "    <tr>\n",
       "      <th>2015-01-04</th>\n",
       "      <td>1.09</td>\n",
       "      <td>1402890.20</td>\n",
       "      <td>conventional</td>\n",
       "      <td>2015</td>\n",
       "      <td>NewYork</td>\n",
       "    </tr>\n",
       "    <tr>\n",
       "      <th>2015-01-11</th>\n",
       "      <td>1.34</td>\n",
       "      <td>1018225.83</td>\n",
       "      <td>conventional</td>\n",
       "      <td>2015</td>\n",
       "      <td>NewYork</td>\n",
       "    </tr>\n",
       "    <tr>\n",
       "      <th>2015-01-11</th>\n",
       "      <td>2.03</td>\n",
       "      <td>14817.97</td>\n",
       "      <td>organic</td>\n",
       "      <td>2015</td>\n",
       "      <td>NewYork</td>\n",
       "    </tr>\n",
       "    <tr>\n",
       "      <th>2015-01-18</th>\n",
       "      <td>1.37</td>\n",
       "      <td>1044280.56</td>\n",
       "      <td>conventional</td>\n",
       "      <td>2015</td>\n",
       "      <td>NewYork</td>\n",
       "    </tr>\n",
       "  </tbody>\n",
       "</table>\n",
       "</div>"
      ],
      "text/plain": [
       "            AveragePrice  TotalVolume          type  year   region\n",
       "Date                                                              \n",
       "2015-01-04          1.93     17328.24       organic  2015  NewYork\n",
       "2015-01-04          1.09   1402890.20  conventional  2015  NewYork\n",
       "2015-01-11          1.34   1018225.83  conventional  2015  NewYork\n",
       "2015-01-11          2.03     14817.97       organic  2015  NewYork\n",
       "2015-01-18          1.37   1044280.56  conventional  2015  NewYork"
      ]
     },
     "execution_count": 24,
     "metadata": {},
     "output_type": "execute_result"
    }
   ],
   "source": [
    "df_ny.reset_index(inplace=True)\n",
    "df_ny = df_ny.sort_values(by='Date', ascending=True)\n",
    "df_ny.set_index('Date', inplace=True)\n",
    "df_ny.head()"
   ]
  },
  {
   "cell_type": "code",
   "execution_count": 25,
   "id": "f1344065",
   "metadata": {},
   "outputs": [],
   "source": [
    "df_ny_org=df_ny[df_ny['type']=='organic']\n",
    "df_ny_con=df_ny[df_ny['type']=='conventional']"
   ]
  },
  {
   "cell_type": "markdown",
   "id": "51bc446a",
   "metadata": {},
   "source": [
    "## Save data "
   ]
  },
  {
   "cell_type": "code",
   "execution_count": 26,
   "id": "c4825bda",
   "metadata": {},
   "outputs": [],
   "source": [
    "df = df.reset_index()\n",
    "df_us = df_us.reset_index()\n",
    "df_ne = df_ne.reset_index()\n",
    "df_ny = df_ny.reset_index()"
   ]
  },
  {
   "cell_type": "code",
   "execution_count": 27,
   "id": "67667961",
   "metadata": {},
   "outputs": [
    {
     "name": "stdout",
     "output_type": "stream",
     "text": [
      "A file already exists with this name.\n",
      "\n",
      "Do you want to overwrite? (Y/N)y\n",
      "Writing file.  \"./data\\df.csv\"\n"
     ]
    }
   ],
   "source": [
    "datapath = './data'\n",
    "save_file(df, 'df.csv', datapath)"
   ]
  },
  {
   "cell_type": "code",
   "execution_count": 28,
   "id": "6484c488",
   "metadata": {},
   "outputs": [
    {
     "name": "stdout",
     "output_type": "stream",
     "text": [
      "A file already exists with this name.\n",
      "\n",
      "Do you want to overwrite? (Y/N)y\n",
      "Writing file.  \"./data\\df_us.csv\"\n"
     ]
    }
   ],
   "source": [
    "save_file(df_us, 'df_us.csv', datapath)"
   ]
  },
  {
   "cell_type": "code",
   "execution_count": 29,
   "id": "5542ed4b",
   "metadata": {},
   "outputs": [
    {
     "name": "stdout",
     "output_type": "stream",
     "text": [
      "A file already exists with this name.\n",
      "\n",
      "Do you want to overwrite? (Y/N)y\n",
      "Writing file.  \"./data\\df_ne.csv\"\n"
     ]
    }
   ],
   "source": [
    "save_file(df_ne, 'df_ne.csv', datapath)"
   ]
  },
  {
   "cell_type": "code",
   "execution_count": 30,
   "id": "a403b1ff",
   "metadata": {},
   "outputs": [
    {
     "name": "stdout",
     "output_type": "stream",
     "text": [
      "A file already exists with this name.\n",
      "\n",
      "Do you want to overwrite? (Y/N)y\n",
      "Writing file.  \"./data\\df_ny.csv\"\n"
     ]
    }
   ],
   "source": [
    "save_file(df_ny, 'df_ny.csv', datapath)"
   ]
  },
  {
   "cell_type": "code",
   "execution_count": null,
   "id": "9585379f",
   "metadata": {},
   "outputs": [],
   "source": []
  },
  {
   "cell_type": "code",
   "execution_count": null,
   "id": "c7c1e871",
   "metadata": {},
   "outputs": [],
   "source": []
  }
 ],
 "metadata": {
  "kernelspec": {
   "display_name": "Python 3 (ipykernel)",
   "language": "python",
   "name": "python3"
  },
  "language_info": {
   "codemirror_mode": {
    "name": "ipython",
    "version": 3
   },
   "file_extension": ".py",
   "mimetype": "text/x-python",
   "name": "python",
   "nbconvert_exporter": "python",
   "pygments_lexer": "ipython3",
   "version": "3.9.7"
  }
 },
 "nbformat": 4,
 "nbformat_minor": 5
}
